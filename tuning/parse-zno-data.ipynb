{
 "cells": [
  {
   "cell_type": "code",
   "execution_count": null,
   "metadata": {},
   "outputs": [],
   "source": [
    "%pip install beautifulsoup4 selenium"
   ]
  },
  {
   "cell_type": "code",
   "execution_count": 1,
   "metadata": {},
   "outputs": [],
   "source": [
    "from bs4 import BeautifulSoup\n",
    "from selenium import webdriver\n",
    "import time\n",
    "import os\n",
    "import json"
   ]
  },
  {
   "cell_type": "code",
   "execution_count": 2,
   "metadata": {},
   "outputs": [],
   "source": [
    "HEADLESS = False\n",
    "USERNAME = \"your_osvita.ua-username\"\n",
    "PASSWORD = \"your_osvita.ua-password\""
   ]
  },
  {
   "cell_type": "code",
   "execution_count": 3,
   "metadata": {},
   "outputs": [],
   "source": [
    "def init_driver():\n",
    "    options = webdriver.ChromeOptions()\n",
    "    if HEADLESS:\n",
    "        options.add_argument('--headless')\n",
    "    options.add_argument('--no-sandbox')\n",
    "    options.add_argument('--disable-dev-shm-usage')\n",
    "    driver = webdriver.Chrome(options=options)\n",
    "    driver.maximize_window()\n",
    "    return driver"
   ]
  },
  {
   "cell_type": "code",
   "execution_count": 4,
   "metadata": {},
   "outputs": [],
   "source": [
    "driver = init_driver()"
   ]
  },
  {
   "cell_type": "code",
   "execution_count": 5,
   "metadata": {},
   "outputs": [],
   "source": [
    "new_window = driver.window_handles[0]\n",
    "driver.switch_to.window(new_window)"
   ]
  },
  {
   "cell_type": "code",
   "execution_count": 6,
   "metadata": {},
   "outputs": [],
   "source": [
    "root_path = 'https://zno.osvita.ua/'\n",
    "driver.get(root_path + 'mathematics/')"
   ]
  },
  {
   "cell_type": "code",
   "execution_count": 7,
   "metadata": {},
   "outputs": [],
   "source": [
    "driver.find_element('class name', 'authorization-block').find_element('tag name', 'a').click()\n",
    "driver.find_element('id', 'floatField01').send_keys(USERNAME)\n",
    "driver.find_element('id', 'floatField02').send_keys(PASSWORD)\n",
    "time.sleep(5)\n",
    "driver.find_element('id', 'floatField02').submit()"
   ]
  },
  {
   "cell_type": "code",
   "execution_count": null,
   "metadata": {},
   "outputs": [],
   "source": [
    "root_path = 'https://zno.osvita.ua/'\n",
    "driver.get(root_path + 'mathematics/')\n",
    "    \n",
    "time.sleep(2)\n",
    "    \n",
    "page_html = driver.page_source\n",
    "soup = BeautifulSoup(page_html,\"html.parser\")\n",
    "test_blocks = soup.findAll('ul', class_='tests-block')\n",
    "tests = [t for test in test_blocks for t in test.findAll(\"a\")]\n",
    "\n",
    "links = []\n",
    "\n",
    "for test in tests:\n",
    "    link = test.get('href')\n",
    "    links.append(root_path + link[1:])"
   ]
  },
  {
   "cell_type": "code",
   "execution_count": 9,
   "metadata": {},
   "outputs": [
    {
     "data": {
      "text/plain": [
       "48"
      ]
     },
     "execution_count": 9,
     "metadata": {},
     "output_type": "execute_result"
    }
   ],
   "source": [
    "len(links)"
   ]
  },
  {
   "cell_type": "code",
   "execution_count": 10,
   "metadata": {},
   "outputs": [
    {
     "data": {
      "text/plain": [
       "['https://zno.osvita.ua/mathematics/585/']"
      ]
     },
     "execution_count": 10,
     "metadata": {},
     "output_type": "execute_result"
    }
   ],
   "source": [
    "links[:1]"
   ]
  },
  {
   "cell_type": "code",
   "execution_count": 11,
   "metadata": {},
   "outputs": [
    {
     "data": {
      "text/plain": [
       "['https://zno.osvita.ua/mathematics/3/',\n",
       " 'https://zno.osvita.ua/mathematics/121/',\n",
       " 'https://zno.osvita.ua/mathematics/127/',\n",
       " 'https://zno.osvita.ua/mathematics/122/',\n",
       " 'https://zno.osvita.ua/mathematics/128/',\n",
       " 'https://zno.osvita.ua/mathematics/123/',\n",
       " 'https://zno.osvita.ua/mathematics/124/',\n",
       " 'https://zno.osvita.ua/mathematics/129/',\n",
       " 'https://zno.osvita.ua/mathematics/131/',\n",
       " 'https://zno.osvita.ua/mathematics/151/',\n",
       " 'https://zno.osvita.ua/mathematics/292/',\n",
       " 'https://zno.osvita.ua/mathematics/296/']"
      ]
     },
     "execution_count": 11,
     "metadata": {},
     "output_type": "execute_result"
    }
   ],
   "source": [
    "links[36:]"
   ]
  },
  {
   "cell_type": "markdown",
   "metadata": {},
   "source": [
    "### set chrome window scale to 50-60% before running the cell below"
   ]
  },
  {
   "cell_type": "code",
   "execution_count": null,
   "metadata": {},
   "outputs": [],
   "source": [
    "for link in links[:1]:\n",
    "    if os.path.isfile('new_tests/math_1/' + \"-\".join(link.split(\"/\")[-3:-1]) + '.json'):\n",
    "        print(f\"\\nSkipped {link} as it's already parsed\\n\")\n",
    "        continue\n",
    "    \n",
    "    driver.get(link)\n",
    "    driver.find_elements('class name', 'select-answers-variants')[0].find_elements('tag name', 'td')[0].click()\n",
    "    driver.find_elements('class name', 'q-final')[0].click()\n",
    "    time.sleep(2)\n",
    "    tasks = driver.find_element('id', 'tasks-numbers').find_elements('tag name', 'span')\n",
    "    \n",
    "    test_data = {'link': link, 'num_tasks': len(tasks)-1, 'tasks': []}\n",
    "    \n",
    "    for idx in range(len(tasks)-1):\n",
    "        task = driver.find_element('id', 'tasks-numbers').find_elements('tag name', 'span')[idx]\n",
    "        task.click()\n",
    "        question_block = driver.find_element('id', 'q'+str(idx+1)).find_elements('class name', 'question')[0]\n",
    "        question = question_block.text\n",
    "        answers = driver.find_element('id', 'q'+str(idx+1)).find_elements('class name', 'answers')\n",
    "        \n",
    "        try:\n",
    "            answer_table = driver.find_element('id', 'q'+str(idx+1)).find_elements('class name', 'select-answers-variants')[0]\n",
    "        except Exception as ex:\n",
    "            print(f\"No answer found for test #{idx} due to {ex}\")\n",
    "            answer_table = None\n",
    "            \n",
    "        # uncomment lines below to include detailed solutions (note, it requires premium account)\n",
    "        #try:\n",
    "            #comment_button = driver.find_element('id', 'q'+str(idx+1)).find_elements('class name', 'explan_open')[0]\n",
    "            #comment_button.click()\n",
    "            #comment = driver.find_element('id', 'q'+str(idx+1)).find_elements('class name', 'explanation')[0].text\n",
    "        #except:\n",
    "        #    comment = \"\"\n",
    "        comment = \"\"\n",
    "\n",
    "        if answer_table is not None:\n",
    "            answer_rows = answer_table.find_elements('tag name', 'tr')\n",
    "            vheader = None\n",
    "            hheader = []\n",
    "            true_answers = []\n",
    "            for row in answer_rows:\n",
    "                if vheader is None:\n",
    "                    vheader = [h.text for h in row.find_elements('tag name', 'th') if h.text]\n",
    "                    continue\n",
    "                hh = row.find_elements('tag name', 'th')\n",
    "                if len(hh) > 0:\n",
    "                    hheader.append(hh[0].text)\n",
    "                tds = row.find_elements('tag name', 'td')\n",
    "                for tidx, td in enumerate(tds):\n",
    "                    if len(td.find_elements('class name', \"ok\")) > 0:\n",
    "                        true_answers.append(vheader[tidx])\n",
    "        else:\n",
    "            vheader = None\n",
    "            hheader = None\n",
    "            true_answers = []\n",
    "            \n",
    "        output_answers = []\n",
    "        for answer_block in answers:\n",
    "            for answer in answer_block.find_elements('class name', 'answer'):\n",
    "                letter = answer.find_elements('class name', 'marker')[0].text\n",
    "                text = answer.text\n",
    "                output_answers.append({'answer': letter, 'text': answer.text[len(letter+'\\n'):]})\n",
    "    \n",
    "        \n",
    "        test_data['tasks'].append({\n",
    "            'task_id': idx,\n",
    "            'question': question,\n",
    "            'answers': output_answers,\n",
    "            'answer_vheader': vheader,\n",
    "            'answer_hheader': hheader,\n",
    "            'correct_answer': true_answers,\n",
    "            'comment': comment,\n",
    "            'with_photo': False\n",
    "        })\n",
    "        \n",
    "        imgs = question_block.find_elements('tag name', 'img')\n",
    "        if len(imgs):\n",
    "            test_data['tasks'][-1]['with_photo'] = True\n",
    "            test_data['tasks'][-1]['photo_url'] = imgs[0].get_attribute(\"src\")\n",
    "        \n",
    "        print(f\"task-{idx}\", question, \n",
    "              '\\n', output_answers, '\\n', vheader, '\\n', hheader, '\\n', true_answers, '\\n', comment, '\\n')\n",
    "        print(\"\\n\\n\")\n",
    "        \n",
    "        time.sleep(2.5)\n",
    "    \n",
    "    with open('new_tests/math_1/' + \"-\".join(link.split(\"/\")[-3:-1]) + '.json', 'w', encoding='utf-8') as fw:\n",
    "        json.dump(test_data, fw, indent=4, ensure_ascii=False)"
   ]
  },
  {
   "cell_type": "code",
   "execution_count": 13,
   "metadata": {},
   "outputs": [
    {
     "data": {
      "text/plain": [
       "[{'task_id': 0,\n",
       "  'question': 'На рисунку відображено зміну густини (мкг/м3) дрібнодисперсного пилу в повітрі протягом доби в деякому районі міста. Укажіть із-поміж наведених проміжок часу (год), упродовж якого густина такого пилу в повітрі лише зменшувалася.',\n",
       "  'answers': [{'answer': 'А', 'text': '[\\n2\\n;\\n 6\\n]'},\n",
       "   {'answer': 'Б', 'text': '[\\n8\\n;\\n 12\\n]'},\n",
       "   {'answer': 'В', 'text': '[\\n12\\n;\\n 14\\n]'},\n",
       "   {'answer': 'Г', 'text': '[\\n14\\n;\\n 16\\n]'},\n",
       "   {'answer': 'Д', 'text': '[\\n20\\n;\\n 24\\n]'}],\n",
       "  'answer_vheader': ['А', 'Б', 'В', 'Г', 'Д'],\n",
       "  'answer_hheader': [],\n",
       "  'correct_answer': ['Д'],\n",
       "  'comment': '',\n",
       "  'with_photo': True,\n",
       "  'photo_url': 'https://zno.osvita.ua/doc/images/znotest/283/28354/01-math-1-2024-new-2.png'},\n",
       " {'task_id': 1,\n",
       "  'question': 'Зовнішній кут при вершині\\nA\\nтрикутника\\nA\\nB\\nC\\nдорівнює\\n100\\n∘\\n,\\n∠\\nC\\n=\\n20\\n∘\\n(див. рисунок). Визначте градусну міру кута\\nB\\n.',\n",
       "  'answers': [{'answer': 'А', 'text': '100\\n∘'},\n",
       "   {'answer': 'Б', 'text': '90\\n∘'},\n",
       "   {'answer': 'В', 'text': '120\\n∘'},\n",
       "   {'answer': 'Г', 'text': '80\\n∘'},\n",
       "   {'answer': 'Д', 'text': '70\\n∘'}],\n",
       "  'answer_vheader': ['А', 'Б', 'В', 'Г', 'Д'],\n",
       "  'answer_hheader': [],\n",
       "  'correct_answer': ['Г'],\n",
       "  'comment': '',\n",
       "  'with_photo': True,\n",
       "  'photo_url': 'https://zno.osvita.ua/doc/images/znotest/283/28355/02-math-1-2024.png'},\n",
       " {'task_id': 2,\n",
       "  'question': 'Розкладіть вираз\\n4\\nx\\n2\\n−\\n144\\nна множники.',\n",
       "  'answers': [{'answer': 'А', 'text': '(\\n2\\nx\\n−\\n12\\n)\\n(\\n2\\nx\\n+\\n12\\n)'},\n",
       "   {'answer': 'Б', 'text': '(\\n2\\nx\\n−\\n72\\n)\\n(\\n2\\nx\\n+\\n72\\n)'},\n",
       "   {'answer': 'В', 'text': '(\\n2\\nx\\n−\\n12\\n)\\n2'},\n",
       "   {'answer': 'Г', 'text': '(\\n2\\nx\\n−\\n72\\n)\\n2'},\n",
       "   {'answer': 'Д', 'text': '2\\n(\\nx\\n−\\n6\\n)\\n(\\nx\\n+\\n6\\n)'}],\n",
       "  'answer_vheader': ['А', 'Б', 'В', 'Г', 'Д'],\n",
       "  'answer_hheader': [],\n",
       "  'correct_answer': ['А'],\n",
       "  'comment': '',\n",
       "  'with_photo': False},\n",
       " {'task_id': 3,\n",
       "  'question': 'На рисунку зображено циліндр, прямокутник\\nA\\nB\\nC\\nD\\n– його осьовий переріз. Укажіть відрізок, який є твірною цього циліндра.',\n",
       "  'answers': [{'answer': 'А', 'text': 'A\\nD'},\n",
       "   {'answer': 'Б', 'text': 'B\\nC'},\n",
       "   {'answer': 'В', 'text': 'A\\nC'},\n",
       "   {'answer': 'Г', 'text': 'B\\nD'},\n",
       "   {'answer': 'Д', 'text': 'A\\nB'}],\n",
       "  'answer_vheader': ['А', 'Б', 'В', 'Г', 'Д'],\n",
       "  'answer_hheader': [],\n",
       "  'correct_answer': ['Д'],\n",
       "  'comment': '',\n",
       "  'with_photo': True,\n",
       "  'photo_url': 'https://zno.osvita.ua/doc/images/znotest/283/28357/04-math-1-2024.png'},\n",
       " {'task_id': 4,\n",
       "  'question': 'Яке з наведених чисел є коренем рівняння\\n|\\n3\\nx\\n+\\n2\\n|\\n=\\n2\\n?',\n",
       "  'answers': [{'answer': 'А', 'text': '4\\n3'},\n",
       "   {'answer': 'Б', 'text': '−\\n4\\n3'},\n",
       "   {'answer': 'В', 'text': '3\\n2'},\n",
       "   {'answer': 'Г', 'text': '−\\n2\\n3'},\n",
       "   {'answer': 'Д', 'text': '−\\n1\\n3'}],\n",
       "  'answer_vheader': ['А', 'Б', 'В', 'Г', 'Д'],\n",
       "  'answer_hheader': [],\n",
       "  'correct_answer': ['Б'],\n",
       "  'comment': '',\n",
       "  'with_photo': False},\n",
       " {'task_id': 5,\n",
       "  'question': 'Микола частує свою родину фруктовим салатом із яблук, бананів й апельсинів. Для приготування однієї порції салату потрібно\\n1\\nбанан,\\n2\\nапельсини та\\n3\\nяблука. Скільки апельсинів використав Микола, якщо він приготував за цим рецептом салат із\\n24\\nфруктів?',\n",
       "  'answers': [{'answer': 'А', 'text': '4'},\n",
       "   {'answer': 'Б', 'text': '5'},\n",
       "   {'answer': 'В', 'text': '8'},\n",
       "   {'answer': 'Г', 'text': '12'},\n",
       "   {'answer': 'Д', 'text': '18'}],\n",
       "  'answer_vheader': ['А', 'Б', 'В', 'Г', 'Д'],\n",
       "  'answer_hheader': [],\n",
       "  'correct_answer': ['В'],\n",
       "  'comment': '',\n",
       "  'with_photo': False},\n",
       " {'task_id': 6,\n",
       "  'question': 'На рисунку зображено графік функції\\ny\\n=\\nf\\n(\\nx\\n)\\n,\\nвизначеної на проміжку\\n[\\n–\\n3\\n;\\n 3\\n]\\n.\\nУ яких координатних чвертях розташований графік функції\\ny\\n=\\nf\\n(\\nx\\n−\\n4\\n)\\n?',\n",
       "  'answers': [{'answer': 'А', 'text': 'лише в І та ІІ'},\n",
       "   {'answer': 'Б', 'text': 'лише в ІІ та ІІІ'},\n",
       "   {'answer': 'В', 'text': 'лише в ІІІ та ІV'},\n",
       "   {'answer': 'Г', 'text': 'лише в І та ІV'},\n",
       "   {'answer': 'Д', 'text': 'у всіх чвертях'}],\n",
       "  'answer_vheader': ['А', 'Б', 'В', 'Г', 'Д'],\n",
       "  'answer_hheader': [],\n",
       "  'correct_answer': ['Г'],\n",
       "  'comment': '',\n",
       "  'with_photo': True,\n",
       "  'photo_url': 'https://zno.osvita.ua/doc/images/znotest/283/28360/07-math-1-2024.png'},\n",
       " {'task_id': 7,\n",
       "  'question': 'Обчисліть\\n189\\n3\\n7\\n3\\n.',\n",
       "  'answers': [{'answer': 'А', 'text': '3'},\n",
       "   {'answer': 'Б', 'text': '7'},\n",
       "   {'answer': 'В', 'text': '9'},\n",
       "   {'answer': 'Г', 'text': '21'},\n",
       "   {'answer': 'Д', 'text': '27'}],\n",
       "  'answer_vheader': ['А', 'Б', 'В', 'Г', 'Д'],\n",
       "  'answer_hheader': [],\n",
       "  'correct_answer': ['А'],\n",
       "  'comment': '',\n",
       "  'with_photo': False}]"
      ]
     },
     "execution_count": 13,
     "metadata": {},
     "output_type": "execute_result"
    }
   ],
   "source": [
    "test_data['tasks']"
   ]
  }
 ],
 "metadata": {
  "kernelspec": {
   "display_name": "zno-eval",
   "language": "python",
   "name": "python3"
  },
  "language_info": {
   "codemirror_mode": {
    "name": "ipython",
    "version": 3
   },
   "file_extension": ".py",
   "mimetype": "text/x-python",
   "name": "python",
   "nbconvert_exporter": "python",
   "pygments_lexer": "ipython3",
   "version": "3.11.0"
  }
 },
 "nbformat": 4,
 "nbformat_minor": 2
}
