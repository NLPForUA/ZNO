{
 "cells": [
  {
   "cell_type": "code",
   "execution_count": 1,
   "id": "87946628-8594-445e-9675-d4adecac1032",
   "metadata": {},
   "outputs": [
    {
     "name": "stdout",
     "output_type": "stream",
     "text": [
      "torch==2.5.1\n",
      "transformers==4.48.2\n",
      "peft==0.14.0\n",
      "wandb==0.19.5\n",
      "trl==0.12.0\n",
      "bitsandbytes==0.45.1\n",
      "accelerate==1.3.0\n",
      "huggingface_hub==0.28.1\n",
      "cut_cross_entropy==25.1.1\n",
      "hf_transfer==0.1.9\n",
      "protobuf==3.20.3\n",
      "sentencepiece==0.2.0\n",
      "unsloth==2025.1.8\n",
      "unsloth_zoo==2025.1.5\n",
      "xformers==0.0.29.post1"
     ]
    }
   ],
   "source": [
    "cat tools/requirements.txt"
   ]
  },
  {
   "cell_type": "code",
   "execution_count": null,
   "id": "4f3c3fdc-10eb-4e0f-a692-3a8008bf54f0",
   "metadata": {
    "scrolled": true
   },
   "outputs": [],
   "source": [
    "%pip install -r tools/requirements.txt"
   ]
  },
  {
   "cell_type": "code",
   "execution_count": null,
   "id": "5a82316e-a607-4436-b03a-aec0e3e34069",
   "metadata": {},
   "outputs": [],
   "source": [
    "from tools.train_configs import get_gemma_2_9B_cot_configs\n",
    "from tools.eval_configs import get_eval_config\n",
    "from tools.train import run_train\n",
    "from tools.eval import run_eval\n",
    "from tools.prepare_data import hash_dataset, detect_duplicates\n",
    "from huggingface_hub import login"
   ]
  },
  {
   "cell_type": "code",
   "execution_count": null,
   "id": "aa599a51-7e82-4200-9ca4-5d9ac467ac9c",
   "metadata": {},
   "outputs": [],
   "source": [
    "login()"
   ]
  },
  {
   "cell_type": "code",
   "execution_count": 2,
   "id": "ff4a7fd0-875a-47af-bd6b-0ff6a0ed6bb0",
   "metadata": {},
   "outputs": [],
   "source": [
    "import json\n",
    "with open(\"/workspace/repeat_determ/ukrainian_dedup_format_02012025.json\", \"r\", encoding=\"utf-8\") as fr:\n",
    "    dataset = json.load(fr)"
   ]
  },
  {
   "cell_type": "code",
   "execution_count": 3,
   "id": "0e3e1d50-32cc-4e9c-9601-0175a416b0b3",
   "metadata": {},
   "outputs": [
    {
     "data": {
      "text/plain": [
       "dict_keys(['train', 'val', 'test'])"
      ]
     },
     "execution_count": 3,
     "metadata": {},
     "output_type": "execute_result"
    }
   ],
   "source": [
    "dataset.keys()"
   ]
  },
  {
   "cell_type": "code",
   "execution_count": 4,
   "id": "eee74eb1-c184-4006-adb3-f29e8b04be1f",
   "metadata": {},
   "outputs": [
    {
     "data": {
      "text/plain": [
       "'26cb90de3ba73d17a7144ce5bded0f51'"
      ]
     },
     "execution_count": 4,
     "metadata": {},
     "output_type": "execute_result"
    }
   ],
   "source": [
    "hash_dataset(dataset)"
   ]
  },
  {
   "cell_type": "code",
   "execution_count": null,
   "id": "3d05a28c-5775-48a9-b863-7f6133e4d6e8",
   "metadata": {
    "scrolled": true
   },
   "outputs": [],
   "source": [
    "detect_duplicates(dataset)"
   ]
  },
  {
   "cell_type": "code",
   "execution_count": 6,
   "id": "d9949019-6521-4cd7-ad58-2c219cac2213",
   "metadata": {},
   "outputs": [],
   "source": [
    "train_params = get_gemma_2_9B_cot_configs()"
   ]
  },
  {
   "cell_type": "code",
   "execution_count": 7,
   "id": "0aea45e1-a213-4fec-aab6-ff8d47d8f502",
   "metadata": {},
   "outputs": [],
   "source": [
    "train_params['run_name'] = \"/workspace/repeat_determ/tools/train_models_23022025/gemma-2-it-cot-26cb90de3ba73d17a7144ce5bded0f51\"\n",
    "train_params['data_path'] = \"/workspace/repeat_determ/ukrainian_dedup_format_02012025.json\""
   ]
  },
  {
   "cell_type": "code",
   "execution_count": 8,
   "id": "5a66883d-97bf-494f-be1a-b09b4989ca7f",
   "metadata": {},
   "outputs": [
    {
     "data": {
      "text/plain": [
       "{'model_name': 'google/gemma-2-9b-it',\n",
       " 'batch_size': 4,\n",
       " 'gradient_accumulation': 4,\n",
       " 'seed': 42,\n",
       " 'load_in_4bit': True,\n",
       " 'load_in_8bit': False,\n",
       " 'lora_rank': 16,\n",
       " 'lora_alpha': 16,\n",
       " 'lora_dropout': 0.05,\n",
       " 'learning_rate': 0.0003,\n",
       " 'max_seq_len': 3072,\n",
       " 'num_epochs': 4,\n",
       " 'warmup_steps': 20,\n",
       " 'chain_of_thought': True,\n",
       " 'with_topic': True,\n",
       " 'run_name': '/workspace/repeat_determ/tools/train_models_23022025/gemma-2-it-cot-26cb90de3ba73d17a7144ce5bded0f51',\n",
       " 'data_path': '/workspace/repeat_determ/ukrainian_dedup_format_02012025.json'}"
      ]
     },
     "execution_count": 8,
     "metadata": {},
     "output_type": "execute_result"
    }
   ],
   "source": [
    "train_params"
   ]
  },
  {
   "cell_type": "code",
   "execution_count": null,
   "id": "9101fa85-1f46-405b-9e1a-30ddddba37f0",
   "metadata": {
    "scrolled": true
   },
   "outputs": [],
   "source": [
    "run_train(**train_params)"
   ]
  },
  {
   "cell_type": "code",
   "execution_count": 9,
   "id": "c62317d1-445c-4286-ab73-1d741586195d",
   "metadata": {},
   "outputs": [
    {
     "data": {
      "text/plain": [
       "{'temperature': 0.0,\n",
       " 'max_new_tokens': 2048,\n",
       " 'do_sample': False,\n",
       " 'rep_penalty': 1.0,\n",
       " 'base_model_name': 'google/gemma-2-9b-it',\n",
       " 'data_path': '/workspace/repeat_determ/ukrainian_dedup_format_02012025.json',\n",
       " 'chain_of_thought': True,\n",
       " 'with_topic': True,\n",
       " 'load_in_4bit': True,\n",
       " 'load_in_8bit': False,\n",
       " 'max_seq_len': 3072,\n",
       " 'date_string': None,\n",
       " 'replace_map': None,\n",
       " 'train_parameters': {'model_name': 'google/gemma-2-9b-it',\n",
       "  'batch_size': 4,\n",
       "  'gradient_accumulation': 4,\n",
       "  'seed': 42,\n",
       "  'load_in_4bit': True,\n",
       "  'load_in_8bit': False,\n",
       "  'lora_rank': 16,\n",
       "  'lora_alpha': 16,\n",
       "  'lora_dropout': 0.05,\n",
       "  'learning_rate': 0.0003,\n",
       "  'max_seq_len': 3072,\n",
       "  'num_epochs': 4,\n",
       "  'warmup_steps': 20,\n",
       "  'chain_of_thought': True,\n",
       "  'with_topic': True,\n",
       "  'run_name': '/workspace/repeat_determ/tools/train_models_23022025/gemma-2-it-cot-26cb90de3ba73d17a7144ce5bded0f51',\n",
       "  'data_path': '/workspace/repeat_determ/ukrainian_dedup_format_02012025.json'},\n",
       " 'adapter_path': '/workspace/repeat_determ/tools/train_models_23022025/gemma-2-it-cot-26cb90de3ba73d17a7144ce5bded0f51_lr0.0003_ep4_msl3072_bs4_ga4_ws20_s42_fdTrue_1742013896.1715345/checkpoint-327',\n",
       " 'merge_type': 'quantized',\n",
       " 'out_file_path': '/workspace/repeat_determ/val_preds/gemma-2-it-no-cot-0203/gemma-2-it-cot-ep3-step327.json',\n",
       " 'split': 'test',\n",
       " 'experiment_link': 'https://wandb.ai/nik-syromyatnikov-/huggingface/runs/kn6koj4u'}"
      ]
     },
     "execution_count": 9,
     "metadata": {},
     "output_type": "execute_result"
    }
   ],
   "source": [
    "eval_params = get_eval_config(train_params)\n",
    "eval_params[\"adapter_path\"] = \"/workspace/repeat_determ/tools/train_models_23022025/gemma-2-it-cot-26cb90de3ba73d17a7144ce5bded0f51_lr0.0003_ep4_msl3072_bs4_ga4_ws20_s42_fdTrue_1742013896.1715345/checkpoint-327\"\n",
    "eval_params[\"merge_type\"] = \"quantized\"\n",
    "eval_params[\"out_file_path\"] = \"/workspace/repeat_determ/val_preds/gemma-2-it-no-cot-0203/gemma-2-it-cot-ep3-step327.json\"\n",
    "#eval_params[\"sample_size\"] = 10\n",
    "eval_params[\"split\"] = \"test\"\n",
    "eval_params[\"experiment_link\"] = \"https://wandb.ai/nik-syromyatnikov-/huggingface/runs/kn6koj4u\"\n",
    "#eval_params[\"date_string\"] = \"07 Feb 2025\"\n",
    "eval_params"
   ]
  },
  {
   "cell_type": "code",
   "execution_count": null,
   "id": "3be40d65-9e4a-4748-9f09-86d840cc4fe7",
   "metadata": {
    "scrolled": true
   },
   "outputs": [],
   "source": [
    "result = run_eval(**eval_params)"
   ]
  },
  {
   "cell_type": "code",
   "execution_count": 22,
   "id": "6d882f8a-5d8f-4be4-987f-ed831a859a39",
   "metadata": {},
   "outputs": [
    {
     "data": {
      "text/plain": [
       "{'temperature': 0.0,\n",
       " 'max_new_tokens': 2048,\n",
       " 'do_sample': False,\n",
       " 'rep_penalty': 1.0,\n",
       " 'base_model_name': 'meta-llama/Llama-3.1-8B-Instruct',\n",
       " 'data_path': '/workspace/repeat_determ/ukrainian_dedup_format_02012025.json',\n",
       " 'chain_of_thought': True,\n",
       " 'load_in_4bit': True,\n",
       " 'load_in_8bit': False,\n",
       " 'max_seq_len': 3072,\n",
       " 'date_string': None,\n",
       " 'train_parameters': {'model_name': 'meta-llama/Llama-3.1-8B-Instruct',\n",
       "  'batch_size': 4,\n",
       "  'gradient_accumulation': 4,\n",
       "  'seed': 42,\n",
       "  'load_in_4bit': True,\n",
       "  'load_in_8bit': False,\n",
       "  'lora_rank': 16,\n",
       "  'lora_alpha': 16,\n",
       "  'lora_dropout': 0.05,\n",
       "  'learning_rate': 0.0003,\n",
       "  'max_seq_len': 3072,\n",
       "  'num_epochs': 4,\n",
       "  'warmup_steps': 20,\n",
       "  'chain_of_thought': True,\n",
       "  'run_name': '/workspace/repeat_determ/tools/train_models_23022025/llama-3.1-it-cot-26cb90de3ba73d17a7144ce5bded0f51',\n",
       "  'data_path': '/workspace/repeat_determ/ukrainian_dedup_format_02012025.json'},\n",
       " 'adapter_path': '/workspace/repeat_determ/tools/train_models_23022025/llama-3.1-it-cot-26cb90de3ba73d17a7144ce5bded0f51_lr0.0003_ep4_msl3072_bs4_ga4_ws20_s42_fdTrue_1740440605.713917/checkpoint-327',\n",
       " 'merge_type': 'full_precision',\n",
       " 'out_file_path': '/workspace/repeat_determ/val_preds/llama-3.1-it-cot/merged_full_prec_llama-3.1-it-cot-ep3-step327.json',\n",
       " 'split': 'val',\n",
       " 'experiment_link': 'https://wandb.ai/nik-syromyatnikov-/huggingface/runs/3txhfi0k'}"
      ]
     },
     "execution_count": 22,
     "metadata": {},
     "output_type": "execute_result"
    }
   ],
   "source": [
    "eval_params = get_eval_config(train_params)\n",
    "eval_params[\"adapter_path\"] = \"/workspace/repeat_determ/tools/train_models_23022025/llama-3.1-it-cot-26cb90de3ba73d17a7144ce5bded0f51_lr0.0003_ep4_msl3072_bs4_ga4_ws20_s42_fdTrue_1740440605.713917/checkpoint-327\"\n",
    "eval_params[\"merge_type\"] = \"full_precision\"\n",
    "eval_params[\"out_file_path\"] = \"/workspace/repeat_determ/val_preds/llama-3.1-it-cot/merged_full_prec_llama-3.1-it-cot-ep3-step327.json\"\n",
    "#eval_params[\"sample_size\"] = 10\n",
    "eval_params[\"split\"] = \"val\"\n",
    "eval_params[\"experiment_link\"] = \"https://wandb.ai/nik-syromyatnikov-/huggingface/runs/3txhfi0k\"\n",
    "#eval_params[\"date_string\"] = \"07 Feb 2025\"\n",
    "eval_params"
   ]
  },
  {
   "cell_type": "code",
   "execution_count": null,
   "id": "b5bd8425-833d-4b38-a491-c450a9ff4530",
   "metadata": {
    "scrolled": true
   },
   "outputs": [],
   "source": [
    "result = run_eval(**eval_params)"
   ]
  }
 ],
 "metadata": {
  "kernelspec": {
   "display_name": "Python 3 (ipykernel)",
   "language": "python",
   "name": "python3"
  },
  "language_info": {
   "codemirror_mode": {
    "name": "ipython",
    "version": 3
   },
   "file_extension": ".py",
   "mimetype": "text/x-python",
   "name": "python",
   "nbconvert_exporter": "python",
   "pygments_lexer": "ipython3",
   "version": "3.10.12"
  }
 },
 "nbformat": 4,
 "nbformat_minor": 5
}
